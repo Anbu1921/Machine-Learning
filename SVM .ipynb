{
 "cells": [
  {
   "cell_type": "markdown",
   "metadata": {
    "id": "_kheVXF7dFWS"
   },
   "source": [
    "# SVM"
   ]
  },
  {
   "cell_type": "markdown",
   "metadata": {
    "id": "tjOhlsNXdFW2"
   },
   "source": [
    "# Import Libraries"
   ]
  },
  {
   "cell_type": "code",
   "execution_count": 1,
   "metadata": {
    "ExecuteTime": {
     "end_time": "2020-04-17T03:57:45.678411Z",
     "start_time": "2020-04-17T03:57:43.182617Z"
    },
    "id": "3WC8i0ZRdFW4"
   },
   "outputs": [],
   "source": [
    "import numpy as np\n",
    "import pandas as pd\n",
    "#from pandas_profiling import ProfileReport\n",
    "from sklearn.model_selection import train_test_split\n",
    "from sklearn.svm import SVC\n",
    "import seaborn as sns\n",
    "from sklearn import metrics\n",
    "import matplotlib.pyplot as plt\n",
    "from IPython.display import Image\n",
    "from IPython.core.display import HTML "
   ]
  },
  {
   "cell_type": "code",
   "execution_count": null,
   "metadata": {},
   "outputs": [],
   "source": [
    "SVC()"
   ]
  },
  {
   "cell_type": "code",
   "execution_count": null,
   "metadata": {},
   "outputs": [],
   "source": [
    "SVC()"
   ]
  },
  {
   "cell_type": "code",
   "execution_count": null,
   "metadata": {
    "id": "bWRW0k73dFW_",
    "outputId": "17cb133d-5d42-4f90-b072-7de2adeca7a6"
   },
   "outputs": [
    {
     "data": {
      "text/plain": [
       "('linear', 'poly', 'rbf', 'sigmoid', 'precomputed')"
      ]
     },
     "execution_count": 9,
     "metadata": {},
     "output_type": "execute_result"
    }
   ],
   "source": [
    "#'linear', 'poly', 'rbf', 'sigmoid', 'precomputed'"
   ]
  },
  {
   "cell_type": "markdown",
   "metadata": {
    "id": "q9sEC37mdFXG"
   },
   "source": [
    "# iris data"
   ]
  },
  {
   "cell_type": "markdown",
   "metadata": {
    "id": "XDA1F_Y3dFXI"
   },
   "source": [
    "# train "
   ]
  },
  {
   "cell_type": "code",
   "execution_count": 2,
   "metadata": {
    "ExecuteTime": {
     "end_time": "2020-04-17T03:57:47.820810Z",
     "start_time": "2020-04-17T03:57:47.806818Z"
    },
    "id": "SX3tsMIadFXK"
   },
   "outputs": [],
   "source": [
    "iris=sns.load_dataset(\"iris\")"
   ]
  },
  {
   "cell_type": "code",
   "execution_count": 3,
   "metadata": {
    "ExecuteTime": {
     "end_time": "2020-04-17T03:57:58.499576Z",
     "start_time": "2020-04-17T03:57:58.477129Z"
    },
    "id": "R9EuzLT_dFXL",
    "outputId": "7d97f68c-0503-4cc9-d77c-d61bdeedd5f5"
   },
   "outputs": [
    {
     "data": {
      "text/html": [
       "<div>\n",
       "<style scoped>\n",
       "    .dataframe tbody tr th:only-of-type {\n",
       "        vertical-align: middle;\n",
       "    }\n",
       "\n",
       "    .dataframe tbody tr th {\n",
       "        vertical-align: top;\n",
       "    }\n",
       "\n",
       "    .dataframe thead th {\n",
       "        text-align: right;\n",
       "    }\n",
       "</style>\n",
       "<table border=\"1\" class=\"dataframe\">\n",
       "  <thead>\n",
       "    <tr style=\"text-align: right;\">\n",
       "      <th></th>\n",
       "      <th>sepal_length</th>\n",
       "      <th>sepal_width</th>\n",
       "      <th>petal_length</th>\n",
       "      <th>petal_width</th>\n",
       "      <th>species</th>\n",
       "    </tr>\n",
       "  </thead>\n",
       "  <tbody>\n",
       "    <tr>\n",
       "      <th>0</th>\n",
       "      <td>5.1</td>\n",
       "      <td>3.5</td>\n",
       "      <td>1.4</td>\n",
       "      <td>0.2</td>\n",
       "      <td>setosa</td>\n",
       "    </tr>\n",
       "    <tr>\n",
       "      <th>1</th>\n",
       "      <td>4.9</td>\n",
       "      <td>3.0</td>\n",
       "      <td>1.4</td>\n",
       "      <td>0.2</td>\n",
       "      <td>setosa</td>\n",
       "    </tr>\n",
       "    <tr>\n",
       "      <th>2</th>\n",
       "      <td>4.7</td>\n",
       "      <td>3.2</td>\n",
       "      <td>1.3</td>\n",
       "      <td>0.2</td>\n",
       "      <td>setosa</td>\n",
       "    </tr>\n",
       "    <tr>\n",
       "      <th>3</th>\n",
       "      <td>4.6</td>\n",
       "      <td>3.1</td>\n",
       "      <td>1.5</td>\n",
       "      <td>0.2</td>\n",
       "      <td>setosa</td>\n",
       "    </tr>\n",
       "    <tr>\n",
       "      <th>4</th>\n",
       "      <td>5.0</td>\n",
       "      <td>3.6</td>\n",
       "      <td>1.4</td>\n",
       "      <td>0.2</td>\n",
       "      <td>setosa</td>\n",
       "    </tr>\n",
       "  </tbody>\n",
       "</table>\n",
       "</div>"
      ],
      "text/plain": [
       "   sepal_length  sepal_width  petal_length  petal_width species\n",
       "0           5.1          3.5           1.4          0.2  setosa\n",
       "1           4.9          3.0           1.4          0.2  setosa\n",
       "2           4.7          3.2           1.3          0.2  setosa\n",
       "3           4.6          3.1           1.5          0.2  setosa\n",
       "4           5.0          3.6           1.4          0.2  setosa"
      ]
     },
     "execution_count": 3,
     "metadata": {},
     "output_type": "execute_result"
    }
   ],
   "source": [
    "iris.head()"
   ]
  },
  {
   "cell_type": "code",
   "execution_count": 5,
   "metadata": {},
   "outputs": [
    {
     "data": {
      "text/plain": [
       "array(['setosa', 'versicolor', 'virginica'], dtype=object)"
      ]
     },
     "execution_count": 5,
     "metadata": {},
     "output_type": "execute_result"
    }
   ],
   "source": [
    "iris[\"species\"].unique()"
   ]
  },
  {
   "cell_type": "code",
   "execution_count": 6,
   "metadata": {
    "ExecuteTime": {
     "end_time": "2020-04-13T03:54:33.687154Z",
     "start_time": "2020-04-13T03:54:33.662981Z"
    },
    "id": "N19bSkMudFXO"
   },
   "outputs": [],
   "source": [
    "X_train, X_test, y_train, y_test = train_test_split(iris.iloc[:100,2:4],iris.iloc[:100,-1] ,test_size=0.3, shuffle=True) "
   ]
  },
  {
   "cell_type": "code",
   "execution_count": 7,
   "metadata": {
    "ExecuteTime": {
     "end_time": "2020-04-13T03:54:34.632220Z",
     "start_time": "2020-04-13T03:54:34.613516Z"
    },
    "id": "7Mnq5BNYdFXP",
    "outputId": "db18e0df-0539-4551-b719-431b4833361c"
   },
   "outputs": [
    {
     "data": {
      "text/html": [
       "<div>\n",
       "<style scoped>\n",
       "    .dataframe tbody tr th:only-of-type {\n",
       "        vertical-align: middle;\n",
       "    }\n",
       "\n",
       "    .dataframe tbody tr th {\n",
       "        vertical-align: top;\n",
       "    }\n",
       "\n",
       "    .dataframe thead th {\n",
       "        text-align: right;\n",
       "    }\n",
       "</style>\n",
       "<table border=\"1\" class=\"dataframe\">\n",
       "  <thead>\n",
       "    <tr style=\"text-align: right;\">\n",
       "      <th></th>\n",
       "      <th>petal_length</th>\n",
       "      <th>petal_width</th>\n",
       "    </tr>\n",
       "  </thead>\n",
       "  <tbody>\n",
       "    <tr>\n",
       "      <th>21</th>\n",
       "      <td>1.5</td>\n",
       "      <td>0.4</td>\n",
       "    </tr>\n",
       "    <tr>\n",
       "      <th>60</th>\n",
       "      <td>3.5</td>\n",
       "      <td>1.0</td>\n",
       "    </tr>\n",
       "    <tr>\n",
       "      <th>75</th>\n",
       "      <td>4.4</td>\n",
       "      <td>1.4</td>\n",
       "    </tr>\n",
       "    <tr>\n",
       "      <th>9</th>\n",
       "      <td>1.5</td>\n",
       "      <td>0.1</td>\n",
       "    </tr>\n",
       "    <tr>\n",
       "      <th>45</th>\n",
       "      <td>1.4</td>\n",
       "      <td>0.3</td>\n",
       "    </tr>\n",
       "  </tbody>\n",
       "</table>\n",
       "</div>"
      ],
      "text/plain": [
       "    petal_length  petal_width\n",
       "21           1.5          0.4\n",
       "60           3.5          1.0\n",
       "75           4.4          1.4\n",
       "9            1.5          0.1\n",
       "45           1.4          0.3"
      ]
     },
     "execution_count": 7,
     "metadata": {},
     "output_type": "execute_result"
    }
   ],
   "source": [
    "X_train.head()"
   ]
  },
  {
   "cell_type": "code",
   "execution_count": 20,
   "metadata": {
    "ExecuteTime": {
     "end_time": "2020-04-16T03:26:46.651882Z",
     "start_time": "2020-04-16T03:26:46.642067Z"
    },
    "id": "bpXlbXiVdFXS"
   },
   "outputs": [],
   "source": [
    "model=SVC(kernel='linear')"
   ]
  },
  {
   "cell_type": "code",
   "execution_count": 21,
   "metadata": {
    "ExecuteTime": {
     "end_time": "2020-04-13T03:54:36.379284Z",
     "start_time": "2020-04-13T03:54:36.353605Z"
    },
    "id": "lb-oHSX-dFXU",
    "outputId": "34bd73c8-721a-4b5a-d7e6-5b66060a3264"
   },
   "outputs": [
    {
     "data": {
      "text/html": [
       "<style>#sk-container-id-3 {color: black;background-color: white;}#sk-container-id-3 pre{padding: 0;}#sk-container-id-3 div.sk-toggleable {background-color: white;}#sk-container-id-3 label.sk-toggleable__label {cursor: pointer;display: block;width: 100%;margin-bottom: 0;padding: 0.3em;box-sizing: border-box;text-align: center;}#sk-container-id-3 label.sk-toggleable__label-arrow:before {content: \"▸\";float: left;margin-right: 0.25em;color: #696969;}#sk-container-id-3 label.sk-toggleable__label-arrow:hover:before {color: black;}#sk-container-id-3 div.sk-estimator:hover label.sk-toggleable__label-arrow:before {color: black;}#sk-container-id-3 div.sk-toggleable__content {max-height: 0;max-width: 0;overflow: hidden;text-align: left;background-color: #f0f8ff;}#sk-container-id-3 div.sk-toggleable__content pre {margin: 0.2em;color: black;border-radius: 0.25em;background-color: #f0f8ff;}#sk-container-id-3 input.sk-toggleable__control:checked~div.sk-toggleable__content {max-height: 200px;max-width: 100%;overflow: auto;}#sk-container-id-3 input.sk-toggleable__control:checked~label.sk-toggleable__label-arrow:before {content: \"▾\";}#sk-container-id-3 div.sk-estimator input.sk-toggleable__control:checked~label.sk-toggleable__label {background-color: #d4ebff;}#sk-container-id-3 div.sk-label input.sk-toggleable__control:checked~label.sk-toggleable__label {background-color: #d4ebff;}#sk-container-id-3 input.sk-hidden--visually {border: 0;clip: rect(1px 1px 1px 1px);clip: rect(1px, 1px, 1px, 1px);height: 1px;margin: -1px;overflow: hidden;padding: 0;position: absolute;width: 1px;}#sk-container-id-3 div.sk-estimator {font-family: monospace;background-color: #f0f8ff;border: 1px dotted black;border-radius: 0.25em;box-sizing: border-box;margin-bottom: 0.5em;}#sk-container-id-3 div.sk-estimator:hover {background-color: #d4ebff;}#sk-container-id-3 div.sk-parallel-item::after {content: \"\";width: 100%;border-bottom: 1px solid gray;flex-grow: 1;}#sk-container-id-3 div.sk-label:hover label.sk-toggleable__label {background-color: #d4ebff;}#sk-container-id-3 div.sk-serial::before {content: \"\";position: absolute;border-left: 1px solid gray;box-sizing: border-box;top: 0;bottom: 0;left: 50%;z-index: 0;}#sk-container-id-3 div.sk-serial {display: flex;flex-direction: column;align-items: center;background-color: white;padding-right: 0.2em;padding-left: 0.2em;position: relative;}#sk-container-id-3 div.sk-item {position: relative;z-index: 1;}#sk-container-id-3 div.sk-parallel {display: flex;align-items: stretch;justify-content: center;background-color: white;position: relative;}#sk-container-id-3 div.sk-item::before, #sk-container-id-3 div.sk-parallel-item::before {content: \"\";position: absolute;border-left: 1px solid gray;box-sizing: border-box;top: 0;bottom: 0;left: 50%;z-index: -1;}#sk-container-id-3 div.sk-parallel-item {display: flex;flex-direction: column;z-index: 1;position: relative;background-color: white;}#sk-container-id-3 div.sk-parallel-item:first-child::after {align-self: flex-end;width: 50%;}#sk-container-id-3 div.sk-parallel-item:last-child::after {align-self: flex-start;width: 50%;}#sk-container-id-3 div.sk-parallel-item:only-child::after {width: 0;}#sk-container-id-3 div.sk-dashed-wrapped {border: 1px dashed gray;margin: 0 0.4em 0.5em 0.4em;box-sizing: border-box;padding-bottom: 0.4em;background-color: white;}#sk-container-id-3 div.sk-label label {font-family: monospace;font-weight: bold;display: inline-block;line-height: 1.2em;}#sk-container-id-3 div.sk-label-container {text-align: center;}#sk-container-id-3 div.sk-container {/* jupyter's `normalize.less` sets `[hidden] { display: none; }` but bootstrap.min.css set `[hidden] { display: none !important; }` so we also need the `!important` here to be able to override the default hidden behavior on the sphinx rendered scikit-learn.org. See: https://github.com/scikit-learn/scikit-learn/issues/21755 */display: inline-block !important;position: relative;}#sk-container-id-3 div.sk-text-repr-fallback {display: none;}</style><div id=\"sk-container-id-3\" class=\"sk-top-container\"><div class=\"sk-text-repr-fallback\"><pre>SVC(kernel=&#x27;linear&#x27;)</pre><b>In a Jupyter environment, please rerun this cell to show the HTML representation or trust the notebook. <br />On GitHub, the HTML representation is unable to render, please try loading this page with nbviewer.org.</b></div><div class=\"sk-container\" hidden><div class=\"sk-item\"><div class=\"sk-estimator sk-toggleable\"><input class=\"sk-toggleable__control sk-hidden--visually\" id=\"sk-estimator-id-3\" type=\"checkbox\" checked><label for=\"sk-estimator-id-3\" class=\"sk-toggleable__label sk-toggleable__label-arrow\">SVC</label><div class=\"sk-toggleable__content\"><pre>SVC(kernel=&#x27;linear&#x27;)</pre></div></div></div></div></div>"
      ],
      "text/plain": [
       "SVC(kernel='linear')"
      ]
     },
     "execution_count": 21,
     "metadata": {},
     "output_type": "execute_result"
    }
   ],
   "source": [
    "model.fit(X_train,y_train)"
   ]
  },
  {
   "cell_type": "code",
   "execution_count": 22,
   "metadata": {
    "ExecuteTime": {
     "end_time": "2020-04-13T03:54:37.012684Z",
     "start_time": "2020-04-13T03:54:37.000408Z"
    },
    "id": "R9OKStCKdFXW",
    "outputId": "12c482bc-29f9-4421-b8e8-114fd68c3309"
   },
   "outputs": [
    {
     "data": {
      "text/plain": [
       "1.0"
      ]
     },
     "execution_count": 22,
     "metadata": {},
     "output_type": "execute_result"
    }
   ],
   "source": [
    "metrics.accuracy_score(y_test,model.predict(X_test))"
   ]
  },
  {
   "cell_type": "code",
   "execution_count": 18,
   "metadata": {
    "ExecuteTime": {
     "end_time": "2020-04-13T03:54:37.706481Z",
     "start_time": "2020-04-13T03:54:37.698900Z"
    },
    "id": "Ra4fnYGVdFXY"
   },
   "outputs": [],
   "source": [
    "vec=model.support_vectors_"
   ]
  },
  {
   "cell_type": "code",
   "execution_count": 12,
   "metadata": {
    "ExecuteTime": {
     "end_time": "2020-04-13T03:54:38.207984Z",
     "start_time": "2020-04-13T03:54:38.194063Z"
    },
    "id": "X0OwsxAbdFXa",
    "outputId": "92d74ddb-bfc5-4b9d-d504-cd65500dbc9d"
   },
   "outputs": [
    {
     "data": {
      "text/plain": [
       "array([[1.9, 0.4],\n",
       "       [3. , 1.1]])"
      ]
     },
     "execution_count": 12,
     "metadata": {},
     "output_type": "execute_result"
    }
   ],
   "source": [
    "vec"
   ]
  },
  {
   "cell_type": "markdown",
   "metadata": {
    "id": "RnvJU-q6dFXb"
   },
   "source": [
    "# plot"
   ]
  },
  {
   "cell_type": "code",
   "execution_count": 23,
   "metadata": {
    "ExecuteTime": {
     "end_time": "2020-04-13T03:58:22.977681Z",
     "start_time": "2020-04-13T03:58:22.749791Z"
    },
    "id": "LWN6_vSQdFXd",
    "outputId": "35b8b873-c01e-4a06-8add-0b8786abb25f"
   },
   "outputs": [
    {
     "data": {
      "text/plain": [
       "<matplotlib.legend.Legend at 0x27365983350>"
      ]
     },
     "execution_count": 23,
     "metadata": {},
     "output_type": "execute_result"
    },
    {
     "data": {
      "image/png": "[encoded data removed]",
      "text/plain": [
       "<Figure size 640x480 with 1 Axes>"
      ]
     },
     "metadata": {},
     "output_type": "display_data"
    }
   ],
   "source": [
    "plt.scatter(X_train[y_train==\"setosa\"].iloc[:,0],X_train[y_train==\"setosa\"].iloc[:,1],label=\"setosa\")\n",
    "plt.scatter(X_train[y_train==\"versicolor\"].iloc[:,0],X_train[y_train==\"versicolor\"].iloc[:,1],label=\"versicolor\")\n",
    "plt.scatter(vec[:,0],vec[:,1],color=\"red\")\n",
    "ax = plt.gca()\n",
    "xlim = ax.get_xlim()\n",
    "w = model.coef_[0]\n",
    "a = -w[0] / w[1]\n",
    "xx = np.linspace(xlim[0], xlim[1])\n",
    "yy = a * xx - model.intercept_[0] / w[1]\n",
    "plt.plot(xx, yy)\n",
    "yy = a * xx - (model.intercept_[0] - 1) / w[1]\n",
    "plt.plot(xx, yy, 'k--')\n",
    "yy = a * xx - (model.intercept_[0] + 1) / w[1]\n",
    "plt.plot(xx, yy, 'k--')\n",
    "plt.legend(loc=\"best\")"
   ]
  },
  {
   "cell_type": "code",
   "execution_count": null,
   "metadata": {
    "id": "xKK70JnedFXg"
   },
   "outputs": [],
   "source": []
  },
  {
   "cell_type": "code",
   "execution_count": null,
   "metadata": {
    "ExecuteTime": {
     "end_time": "2020-04-17T04:56:38.481603Z",
     "start_time": "2020-04-17T04:56:38.470595Z"
    },
    "id": "9cydFIwIdFXi"
   },
   "outputs": [],
   "source": [
    "data=pd.read_csv(\"diabetes.csv\")"
   ]
  },
  {
   "cell_type": "code",
   "execution_count": null,
   "metadata": {
    "ExecuteTime": {
     "end_time": "2020-04-17T04:56:38.948496Z",
     "start_time": "2020-04-17T04:56:38.935448Z"
    },
    "id": "mKA3yHBXdFXj",
    "outputId": "3329ac96-e4e2-4757-ee48-4b7d1c5c2774"
   },
   "outputs": [
    {
     "data": {
      "text/html": [
       "<div>\n",
       "<style scoped>\n",
       "    .dataframe tbody tr th:only-of-type {\n",
       "        vertical-align: middle;\n",
       "    }\n",
       "\n",
       "    .dataframe tbody tr th {\n",
       "        vertical-align: top;\n",
       "    }\n",
       "\n",
       "    .dataframe thead th {\n",
       "        text-align: right;\n",
       "    }\n",
       "</style>\n",
       "<table border=\"1\" class=\"dataframe\">\n",
       "  <thead>\n",
       "    <tr style=\"text-align: right;\">\n",
       "      <th></th>\n",
       "      <th>Pregnancies</th>\n",
       "      <th>Glucose</th>\n",
       "      <th>BloodPressure</th>\n",
       "      <th>SkinThickness</th>\n",
       "      <th>Insulin</th>\n",
       "      <th>BMI</th>\n",
       "      <th>DiabetesPedigreeFunction</th>\n",
       "      <th>Age</th>\n",
       "      <th>Outcome</th>\n",
       "    </tr>\n",
       "  </thead>\n",
       "  <tbody>\n",
       "    <tr>\n",
       "      <td>0</td>\n",
       "      <td>6</td>\n",
       "      <td>148</td>\n",
       "      <td>72</td>\n",
       "      <td>35</td>\n",
       "      <td>0</td>\n",
       "      <td>33.6</td>\n",
       "      <td>0.627</td>\n",
       "      <td>50</td>\n",
       "      <td>1</td>\n",
       "    </tr>\n",
       "    <tr>\n",
       "      <td>1</td>\n",
       "      <td>1</td>\n",
       "      <td>85</td>\n",
       "      <td>66</td>\n",
       "      <td>29</td>\n",
       "      <td>0</td>\n",
       "      <td>26.6</td>\n",
       "      <td>0.351</td>\n",
       "      <td>31</td>\n",
       "      <td>0</td>\n",
       "    </tr>\n",
       "  </tbody>\n",
       "</table>\n",
       "</div>"
      ],
      "text/plain": [
       "   Pregnancies  Glucose  BloodPressure  SkinThickness  Insulin   BMI  \\\n",
       "0            6      148             72             35        0  33.6   \n",
       "1            1       85             66             29        0  26.6   \n",
       "\n",
       "   DiabetesPedigreeFunction  Age  Outcome  \n",
       "0                     0.627   50        1  \n",
       "1                     0.351   31        0  "
      ]
     },
     "execution_count": 14,
     "metadata": {},
     "output_type": "execute_result"
    }
   ],
   "source": [
    "data.head(2)"
   ]
  },
  {
   "cell_type": "code",
   "execution_count": null,
   "metadata": {
    "ExecuteTime": {
     "end_time": "2020-04-17T04:56:39.904365Z",
     "start_time": "2020-04-17T04:56:39.894658Z"
    },
    "id": "JQ7YVrYadFXl"
   },
   "outputs": [],
   "source": [
    "X_train, X_test, y_train, y_test = train_test_split(data.iloc[:,:-1],data.iloc[:,-1] ,test_size=0.3, shuffle=True)"
   ]
  },
  {
   "cell_type": "code",
   "execution_count": null,
   "metadata": {
    "ExecuteTime": {
     "end_time": "2020-04-16T04:17:57.538375Z",
     "start_time": "2020-04-16T04:17:55.390177Z"
    },
    "id": "qMAEpx-RdFXn",
    "outputId": "38b0e123-5418-41b0-b506-bdf0908e5205"
   },
   "outputs": [
    {
     "data": {
      "text/plain": [
       "0.7792207792207793"
      ]
     },
     "execution_count": 54,
     "metadata": {},
     "output_type": "execute_result"
    }
   ],
   "source": [
    "model.fit(X_train,y_train)\n",
    "metrics.accuracy_score(y_test,model.predict(X_test))"
   ]
  },
  {
   "cell_type": "code",
   "execution_count": null,
   "metadata": {
    "ExecuteTime": {
     "end_time": "2020-04-16T04:17:58.854099Z",
     "start_time": "2020-04-16T04:17:58.849793Z"
    },
    "id": "yAfwdzyOdFXp"
   },
   "outputs": [],
   "source": [
    "vec=model.support_vectors_"
   ]
  },
  {
   "cell_type": "code",
   "execution_count": null,
   "metadata": {
    "ExecuteTime": {
     "end_time": "2020-04-16T04:11:53.829596Z",
     "start_time": "2020-04-16T04:11:53.799300Z"
    },
    "id": "NaW_S_dWdFXr",
    "outputId": "32609b39-7dc2-43ad-e6bb-48500de69077"
   },
   "outputs": [
    {
     "data": {
      "text/html": [
       "<div>\n",
       "<style scoped>\n",
       "    .dataframe tbody tr th:only-of-type {\n",
       "        vertical-align: middle;\n",
       "    }\n",
       "\n",
       "    .dataframe tbody tr th {\n",
       "        vertical-align: top;\n",
       "    }\n",
       "\n",
       "    .dataframe thead th {\n",
       "        text-align: right;\n",
       "    }\n",
       "</style>\n",
       "<table border=\"1\" class=\"dataframe\">\n",
       "  <thead>\n",
       "    <tr style=\"text-align: right;\">\n",
       "      <th></th>\n",
       "      <th>Pregnancies</th>\n",
       "      <th>Glucose</th>\n",
       "    </tr>\n",
       "  </thead>\n",
       "  <tbody>\n",
       "    <tr>\n",
       "      <td>259</td>\n",
       "      <td>11</td>\n",
       "      <td>155</td>\n",
       "    </tr>\n",
       "    <tr>\n",
       "      <td>688</td>\n",
       "      <td>1</td>\n",
       "      <td>140</td>\n",
       "    </tr>\n",
       "    <tr>\n",
       "      <td>663</td>\n",
       "      <td>9</td>\n",
       "      <td>145</td>\n",
       "    </tr>\n",
       "  </tbody>\n",
       "</table>\n",
       "</div>"
      ],
      "text/plain": [
       "     Pregnancies  Glucose\n",
       "259           11      155\n",
       "688            1      140\n",
       "663            9      145"
      ]
     },
     "execution_count": 50,
     "metadata": {},
     "output_type": "execute_result"
    }
   ],
   "source": [
    "X_train.head(3)"
   ]
  },
  {
   "cell_type": "code",
   "execution_count": null,
   "metadata": {
    "ExecuteTime": {
     "end_time": "2020-04-16T04:08:52.972172Z",
     "start_time": "2020-04-16T04:08:52.697387Z"
    },
    "id": "gyhjar2xdFXt",
    "outputId": "bfe85824-c822-467a-fcda-ffd4f5df6582"
   },
   "outputs": [
    {
     "data": {
      "text/plain": [
       "<matplotlib.legend.Legend at 0x1a2013e690>"
      ]
     },
     "execution_count": 49,
     "metadata": {},
     "output_type": "execute_result"
    },
    {
     "data": {
      "image/png": "[encoded data removed]",
      "text/plain": [
       "<Figure size 432x288 with 1 Axes>"
      ]
     },
     "metadata": {
      "needs_background": "light"
     },
     "output_type": "display_data"
    }
   ],
   "source": [
    "plt.scatter(X_train[y_train==0].iloc[:,0],X_train[y_train==0].iloc[:,1],label=\"1\")\n",
    "plt.scatter(X_train[y_train==1].iloc[:,0],X_train[y_train==1].iloc[:,1],label=\"0\")\n",
    "plt.scatter(vec[:,0],vec[:,1],color=\"red\")\n",
    "ax = plt.gca()\n",
    "xlim = ax.get_xlim()\n",
    "w = model.coef_[0]\n",
    "a = -w[0] / w[1]\n",
    "xx = np.linspace(xlim[0], xlim[1])\n",
    "yy = a * xx - model.intercept_[0] / w[1]\n",
    "plt.plot(xx, yy)\n",
    "yy = a * xx - (model.intercept_[0] - 1) / w[1]\n",
    "plt.plot(xx, yy, 'k--')\n",
    "yy = a * xx - (model.intercept_[0] + 1) / w[1]\n",
    "plt.plot(xx, yy, 'k--')\n",
    "plt.legend(loc=\"best\")"
   ]
  },
  {
   "cell_type": "markdown",
   "metadata": {
    "id": "wElMp1B9dFXw"
   },
   "source": [
    "# soft margin using slack variables"
   ]
  },
  {
   "cell_type": "markdown",
   "metadata": {
    "id": "mcanWPTDdFXz"
   },
   "source": [
    "![Screenshot%202019-12-03%20at%203.18.13%20PM.png](attachment:Screenshot%202019-12-03%20at%203.18.13%20PM.png)"
   ]
  },
  {
   "cell_type": "markdown",
   "metadata": {
    "id": "Ffi7AcOFdFX1"
   },
   "source": [
    "![Screenshot%202019-12-03%20at%202.54.35%20PM.png](attachment:Screenshot%202019-12-03%20at%202.54.35%20PM.png)"
   ]
  },
  {
   "cell_type": "markdown",
   "metadata": {
    "id": "Ohb3t7OXdFX2"
   },
   "source": [
    "# logisticdrawback.csv"
   ]
  },
  {
   "cell_type": "code",
   "execution_count": null,
   "metadata": {
    "ExecuteTime": {
     "end_time": "2020-04-16T04:28:16.054860Z",
     "start_time": "2020-04-16T04:28:16.032250Z"
    },
    "id": "93LdDBT0dFX4"
   },
   "outputs": [],
   "source": [
    "data=pd.read_csv(\"logisticdrawback.csv\")"
   ]
  },
  {
   "cell_type": "code",
   "execution_count": null,
   "metadata": {
    "ExecuteTime": {
     "end_time": "2020-04-16T04:28:16.432638Z",
     "start_time": "2020-04-16T04:28:16.425140Z"
    },
    "id": "RI4LvAdedFX6",
    "outputId": "ac3128cf-0d73-47f7-c2c8-23f981a31efe"
   },
   "outputs": [
    {
     "data": {
      "text/plain": [
       "(300, 3)"
      ]
     },
     "execution_count": 58,
     "metadata": {},
     "output_type": "execute_result"
    }
   ],
   "source": [
    "data.shape"
   ]
  },
  {
   "cell_type": "code",
   "execution_count": null,
   "metadata": {
    "ExecuteTime": {
     "end_time": "2020-04-16T04:28:17.186077Z",
     "start_time": "2020-04-16T04:28:16.977477Z"
    },
    "id": "45cElHQEdFX7",
    "outputId": "ebaf2144-89da-4040-9381-95d3b2a961b3"
   },
   "outputs": [
    {
     "data": {
      "text/plain": [
       "<matplotlib.collections.PathCollection at 0x1a20324b50>"
      ]
     },
     "execution_count": 59,
     "metadata": {},
     "output_type": "execute_result"
    },
    {
     "data": {
      "image/png": "[encoded data removed]",
      "text/plain": [
       "<Figure size 432x288 with 1 Axes>"
      ]
     },
     "metadata": {
      "needs_background": "light"
     },
     "output_type": "display_data"
    }
   ],
   "source": [
    "plt.scatter(data.iloc[:200,0],data.iloc[:200,1],c=data.iloc[:200,-1])"
   ]
  },
  {
   "cell_type": "code",
   "execution_count": null,
   "metadata": {
    "ExecuteTime": {
     "end_time": "2020-04-16T04:32:30.781815Z",
     "start_time": "2020-04-16T04:32:30.768425Z"
    },
    "id": "rrr_sFbedFX9"
   },
   "outputs": [],
   "source": [
    "X_train, X_test, y_train, y_test = train_test_split(data.iloc[:200,:-1],data.iloc[:200,-1] ,test_size=0.3, shuffle=True) "
   ]
  },
  {
   "cell_type": "code",
   "execution_count": null,
   "metadata": {
    "ExecuteTime": {
     "end_time": "2020-04-16T04:32:31.790227Z",
     "start_time": "2020-04-16T04:32:31.774497Z"
    },
    "id": "8lX8iEFkdFX-"
   },
   "outputs": [],
   "source": [
    "model=SVC(kernel='linear')"
   ]
  },
  {
   "cell_type": "code",
   "execution_count": null,
   "metadata": {
    "ExecuteTime": {
     "end_time": "2020-04-16T04:32:32.465387Z",
     "start_time": "2020-04-16T04:32:32.454400Z"
    },
    "id": "p-e1gsKTdFX_",
    "outputId": "abac7c8a-6f23-4b0e-ea55-efe7eb26b873"
   },
   "outputs": [
    {
     "data": {
      "text/plain": [
       "SVC(C=1.0, cache_size=200, class_weight=None, coef0=0.0,\n",
       "    decision_function_shape='ovr', degree=3, gamma='auto_deprecated',\n",
       "    kernel='linear', max_iter=-1, probability=False, random_state=None,\n",
       "    shrinking=True, tol=0.001, verbose=False)"
      ]
     },
     "execution_count": 69,
     "metadata": {},
     "output_type": "execute_result"
    }
   ],
   "source": [
    "model.fit(X_train,y_train)"
   ]
  },
  {
   "cell_type": "code",
   "execution_count": null,
   "metadata": {
    "ExecuteTime": {
     "end_time": "2020-04-16T04:32:33.169992Z",
     "start_time": "2020-04-16T04:32:33.149499Z"
    },
    "id": "yNXYXHQ9dFYB",
    "outputId": "80a0e8c8-21c6-4a5a-d3d7-445ff8cdcdb8"
   },
   "outputs": [
    {
     "data": {
      "text/plain": [
       "0.5666666666666667"
      ]
     },
     "execution_count": 70,
     "metadata": {},
     "output_type": "execute_result"
    }
   ],
   "source": [
    "metrics.accuracy_score(y_test,model.predict(X_test))"
   ]
  },
  {
   "cell_type": "code",
   "execution_count": null,
   "metadata": {
    "ExecuteTime": {
     "end_time": "2020-04-16T04:32:33.870100Z",
     "start_time": "2020-04-16T04:32:33.860542Z"
    },
    "id": "3wxjMCTNdFYC"
   },
   "outputs": [],
   "source": [
    "vec=model.support_vectors_"
   ]
  },
  {
   "cell_type": "code",
   "execution_count": null,
   "metadata": {
    "ExecuteTime": {
     "end_time": "2020-04-16T04:41:51.030555Z",
     "start_time": "2020-04-16T04:41:50.773249Z"
    },
    "id": "XUmrbM-zdFYE",
    "outputId": "7a38c220-d8cc-456a-d70a-a27fea26dc00"
   },
   "outputs": [
    {
     "data": {
      "text/plain": [
       "<matplotlib.legend.Legend at 0x1a1e3d9ad0>"
      ]
     },
     "execution_count": 75,
     "metadata": {},
     "output_type": "execute_result"
    },
    {
     "data": {
      "image/png": "[encoded data removed]",
      "text/plain": [
       "<Figure size 432x288 with 1 Axes>"
      ]
     },
     "metadata": {
      "needs_background": "light"
     },
     "output_type": "display_data"
    }
   ],
   "source": [
    "plt.scatter(X_train[y_train==1].iloc[:,0],X_train[y_train==1].iloc[:,1],label=\"class_1\")\n",
    "plt.scatter(X_train[y_train==2].iloc[:,0],X_train[y_train==2].iloc[:,1],label=\"class_2\")\n",
    "plt.scatter(vec[:,0],vec[:,1],color=\"red\",label=\"support_vecs\")\n",
    "plt.ylim(-6,+10)\n",
    "ax = plt.gca()\n",
    "xlim = ax.get_xlim()\n",
    "w = model.coef_[0]\n",
    "a = -w[0] / w[1]\n",
    "xx = np.linspace(xlim[0], xlim[1])\n",
    "yy = a * xx - model.intercept_[0] / w[1]\n",
    "plt.plot(xx, yy)\n",
    "yy = a * xx - (model.intercept_[0] - 1) / w[1]\n",
    "plt.plot(xx, yy, 'k--')\n",
    "yy = a * xx - (model.intercept_[0] + 1) / w[1]\n",
    "plt.plot(xx, yy, 'k--')\n",
    "plt.legend(loc=\"best\")"
   ]
  },
  {
   "cell_type": "markdown",
   "metadata": {
    "id": "tbZIbeLpdFYG"
   },
   "source": [
    "# using rbf"
   ]
  },
  {
   "cell_type": "code",
   "execution_count": null,
   "metadata": {
    "id": "uTlKh2yLdFYH"
   },
   "outputs": [],
   "source": [
    "data=pd.read_csv(\"logisticdrawback.csv\")"
   ]
  },
  {
   "cell_type": "code",
   "execution_count": null,
   "metadata": {
    "id": "JCdTtbeddFYI"
   },
   "outputs": [],
   "source": [
    "X_train, X_test, y_train, y_test = train_test_split(data.iloc[:200,:-1],data.iloc[:200,-1] ,test_size=0.3, shuffle=True) "
   ]
  },
  {
   "cell_type": "code",
   "execution_count": null,
   "metadata": {
    "ExecuteTime": {
     "end_time": "2020-04-17T02:53:33.870847Z",
     "start_time": "2020-04-17T02:53:33.865724Z"
    },
    "id": "E6mpT7hwdFYJ"
   },
   "outputs": [],
   "source": [
    "model=SVC(kernel='rbf',gamma=1)"
   ]
  },
  {
   "cell_type": "code",
   "execution_count": null,
   "metadata": {
    "id": "P1jPF3vDdFYK",
    "outputId": "e42b7b4d-d263-4f30-d915-b0115fc6abe3"
   },
   "outputs": [
    {
     "name": "stderr",
     "output_type": "stream",
     "text": [
      "/Users/somnathmondal/anaconda3/lib/python3.7/site-packages/sklearn/svm/base.py:196: FutureWarning: The default value of gamma will change from 'auto' to 'scale' in version 0.22 to account better for unscaled features. Set gamma explicitly to 'auto' or 'scale' to avoid this warning.\n",
      "  \"avoid this warning.\", FutureWarning)\n"
     ]
    },
    {
     "data": {
      "text/plain": [
       "SVC(C=1.0, cache_size=200, class_weight=None, coef0=0.0,\n",
       "  decision_function_shape='ovr', degree=3, gamma='auto_deprecated',\n",
       "  kernel='rbf', max_iter=-1, probability=False, random_state=None,\n",
       "  shrinking=True, tol=0.001, verbose=False)"
      ]
     },
     "execution_count": 44,
     "metadata": {},
     "output_type": "execute_result"
    }
   ],
   "source": [
    "model.fit(X_train,y_train)"
   ]
  },
  {
   "cell_type": "code",
   "execution_count": null,
   "metadata": {
    "id": "p_wLcjjrdFYM",
    "outputId": "c39fa42b-3a7c-439b-cb87-7348a7347bbd"
   },
   "outputs": [
    {
     "data": {
      "text/plain": [
       "1.0"
      ]
     },
     "execution_count": 45,
     "metadata": {},
     "output_type": "execute_result"
    }
   ],
   "source": [
    "metrics.accuracy_score(y_test,model.predict(X_test))"
   ]
  },
  {
   "cell_type": "code",
   "execution_count": null,
   "metadata": {
    "id": "eVbGSuIHdFYN"
   },
   "outputs": [],
   "source": [
    "vec=model.support_vectors_"
   ]
  },
  {
   "cell_type": "code",
   "execution_count": null,
   "metadata": {
    "id": "r0Fwmpz5dFYO",
    "outputId": "71f32b68-5607-4342-986b-8d4fe1d4080c",
    "scrolled": true
   },
   "outputs": [
    {
     "data": {
      "text/plain": [
       "array([[-1.33547361,  1.3762356 ],\n",
       "       [-0.86005804,  1.3922934 ],\n",
       "       [-0.38376178, -1.36023835],\n",
       "       [-1.64818908, -0.54929524],\n",
       "       [-1.37386474, -0.41051708],\n",
       "       [ 0.23281199,  1.19498071],\n",
       "       [ 0.8250868 ,  1.74770601],\n",
       "       [ 1.05707212, -1.5849058 ],\n",
       "       [ 0.19449442, -1.69509988],\n",
       "       [ 1.26893289,  0.06322357],\n",
       "       [-0.13135059,  0.11904256],\n",
       "       [ 2.44369369,  5.25143347],\n",
       "       [ 3.18713298, -5.05956332],\n",
       "       [ 5.59180404, -1.50701936],\n",
       "       [-3.22405571, -4.26484158],\n",
       "       [-5.6161954 , -1.59506056],\n",
       "       [-4.99021677,  2.86304167],\n",
       "       [ 1.19229241, -5.84923076],\n",
       "       [ 1.47252122, -4.0873588 ],\n",
       "       [-5.9742012 ,  0.26459572],\n",
       "       [ 2.84807405,  4.75503348],\n",
       "       [ 4.1048444 , -0.8556285 ],\n",
       "       [-4.86699521, -2.43997032],\n",
       "       [ 3.5347451 , -3.77661188],\n",
       "       [ 0.47971279,  4.03078897],\n",
       "       [ 0.81754689,  4.97376731],\n",
       "       [ 5.32969367,  0.73904671],\n",
       "       [-0.99638172, -5.87367329],\n",
       "       [-2.14257718, -3.71018335],\n",
       "       [-3.32325406, -2.26824312],\n",
       "       [ 4.9995973 ,  2.99360732],\n",
       "       [ 2.7211479 ,  3.09480732],\n",
       "       [-2.65101811,  4.95073625],\n",
       "       [ 2.95410566, -3.21494133],\n",
       "       [-3.48322136,  2.30537744],\n",
       "       [-1.05615377,  5.86685669],\n",
       "       [ 4.41237401, -2.30113581],\n",
       "       [-1.9058825 ,  3.69452004],\n",
       "       [ 3.85507524,  1.74459904],\n",
       "       [-3.73102525, -1.5179751 ],\n",
       "       [-4.50311102,  0.42780552],\n",
       "       [ 5.65877369, -0.86062224]])"
      ]
     },
     "execution_count": 47,
     "metadata": {},
     "output_type": "execute_result"
    }
   ],
   "source": [
    "vec"
   ]
  },
  {
   "cell_type": "code",
   "execution_count": null,
   "metadata": {
    "id": "p3FP8IiDdFYQ",
    "outputId": "da4e64af-0b89-4be9-cf9d-86743a66e8be"
   },
   "outputs": [
    {
     "data": {
      "text/plain": [
       "<matplotlib.legend.Legend at 0x10a034668>"
      ]
     },
     "execution_count": 48,
     "metadata": {},
     "output_type": "execute_result"
    },
    {
     "data": {
      "image/png": "[encoded data removed]",
      "text/plain": [
       "<Figure size 432x288 with 1 Axes>"
      ]
     },
     "metadata": {
      "needs_background": "light"
     },
     "output_type": "display_data"
    }
   ],
   "source": [
    "vec=model.support_vectors_\n",
    "plt.scatter(X_train[y_train==1].iloc[:,0],X_train[y_train==1].iloc[:,1],label=\"class_1\")\n",
    "plt.scatter(X_train[y_train==2].iloc[:,0],X_train[y_train==2].iloc[:,1],label=\"class_2\")\n",
    "plt.scatter(vec[:,0],vec[:,1],color=\"black\",label=\"support_vecs\")\n",
    "plt.legend(loc=\"best\")"
   ]
  },
  {
   "cell_type": "code",
   "execution_count": null,
   "metadata": {
    "ExecuteTime": {
     "end_time": "2020-04-17T02:56:56.897734Z",
     "start_time": "2020-04-17T02:56:56.861667Z"
    },
    "id": "KXpAJditdFYR"
   },
   "outputs": [],
   "source": [
    "#'linear', 'poly', 'rbf', 'sigmoid', 'precomputed' "
   ]
  }
 ],
 "metadata": {
  "colab": {
   "name": "SVM (1).ipynb",
   "provenance": []
  },
  "kernelspec": {
   "display_name": "Python 3 (ipykernel)",
   "language": "python",
   "name": "python3"
  },
  "language_info": {
   "codemirror_mode": {
    "name": "ipython",
    "version": 3
   },
   "file_extension": ".py",
   "mimetype": "text/x-python",
   "name": "python",
   "nbconvert_exporter": "python",
   "pygments_lexer": "ipython3",
   "version": "3.13.2"
  }
 },
 "nbformat": 4,
 "nbformat_minor": 4
}
