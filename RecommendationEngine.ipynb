{
 "cells": [
  {
   "cell_type": "code",
   "execution_count": 1,
   "id": "77c1f77c-4e6a-4e95-8e5b-f0b85a9438f9",
   "metadata": {},
   "outputs": [],
   "source": [
    "import pandas as pd\n",
    "import numpy as np\n",
    "from sklearn.feature_extraction.text import TfidfVectorizer # Term frequency inverse document vectorizer\n",
    "from sklearn.metrics.pairwise import linear_kernel "
   ]
  },
  {
   "cell_type": "code",
   "execution_count": 2,
   "id": "b7d5d5d0-ccd7-4015-8828-755d408c4277",
   "metadata": {},
   "outputs": [],
   "source": [
    "movie_df = pd.read_csv('Movies_dataset.csv')"
   ]
  },
  {
   "cell_type": "code",
   "execution_count": 3,
   "id": "37f12e0b-d4fb-423e-a645-fe3052ba5fed",
   "metadata": {},
   "outputs": [
    {
     "data": {
      "text/html": [
       "<div>\n",
       "<style scoped>\n",
       "    .dataframe tbody tr th:only-of-type {\n",
       "        vertical-align: middle;\n",
       "    }\n",
       "\n",
       "    .dataframe tbody tr th {\n",
       "        vertical-align: top;\n",
       "    }\n",
       "\n",
       "    .dataframe thead th {\n",
       "        text-align: right;\n",
       "    }\n",
       "</style>\n",
       "<table border=\"1\" class=\"dataframe\">\n",
       "  <thead>\n",
       "    <tr style=\"text-align: right;\">\n",
       "      <th></th>\n",
       "      <th>Movie Title</th>\n",
       "      <th>Ratinng</th>\n",
       "      <th>genre</th>\n",
       "      <th>act</th>\n",
       "      <th>Plot</th>\n",
       "    </tr>\n",
       "  </thead>\n",
       "  <tbody>\n",
       "    <tr>\n",
       "      <th>0</th>\n",
       "      <td>3 Idiots</td>\n",
       "      <td>8.4</td>\n",
       "      <td>Comedy, Drama</td>\n",
       "      <td>Aamir Khan, Madhavan, Mona Singh, Sharman Josh...</td>\n",
       "      <td>papadum, hairy chest, against the system, comi...</td>\n",
       "    </tr>\n",
       "    <tr>\n",
       "      <th>1</th>\n",
       "      <td>Taare Zameen Par</td>\n",
       "      <td>8.3</td>\n",
       "      <td>Drama, Family</td>\n",
       "      <td>Darsheel Safary, Aamir Khan, Tisca Chopra, Vip...</td>\n",
       "      <td>teacher student relationship, dyslexia, agains...</td>\n",
       "    </tr>\n",
       "    <tr>\n",
       "      <th>2</th>\n",
       "      <td>PK</td>\n",
       "      <td>8.1</td>\n",
       "      <td>Comedy, Drama, Sci-Fi</td>\n",
       "      <td>Aamir Khan, Anushka Sharma, Sanjay Dutt, Boman...</td>\n",
       "      <td>guru, religion, tv reporter, alien on earth, p...</td>\n",
       "    </tr>\n",
       "    <tr>\n",
       "      <th>3</th>\n",
       "      <td>Dangal</td>\n",
       "      <td>8.3</td>\n",
       "      <td>Action, Biography, Drama</td>\n",
       "      <td>Aamir Khan, Sakshi Tanwar, Fatima Sana Shaikh,...</td>\n",
       "      <td>small town, father daughter relationship, male...</td>\n",
       "    </tr>\n",
       "    <tr>\n",
       "      <th>4</th>\n",
       "      <td>Rang De Basanti</td>\n",
       "      <td>8.1</td>\n",
       "      <td>Comedy, Crime, Drama</td>\n",
       "      <td>Aamir Khan, Soha Ali Khan, Siddharth, Sharman ...</td>\n",
       "      <td>delhi india, murder, friend, india, awakening,...</td>\n",
       "    </tr>\n",
       "    <tr>\n",
       "      <th>...</th>\n",
       "      <td>...</td>\n",
       "      <td>...</td>\n",
       "      <td>...</td>\n",
       "      <td>...</td>\n",
       "      <td>...</td>\n",
       "    </tr>\n",
       "    <tr>\n",
       "      <th>806</th>\n",
       "      <td>Parde Ke Peechey</td>\n",
       "      <td>5.9</td>\n",
       "      <td>Action</td>\n",
       "      <td>Vinod Mehra, Yogeeta Bali, Pran Sikand, Bindu ...</td>\n",
       "      <td>crook</td>\n",
       "    </tr>\n",
       "    <tr>\n",
       "      <th>807</th>\n",
       "      <td>Dhamkee</td>\n",
       "      <td>4.0</td>\n",
       "      <td>Action, Comedy</td>\n",
       "      <td>Ravi Teja, Anushka Shetty, Krishna, Pradeep Si...</td>\n",
       "      <td>sorry</td>\n",
       "    </tr>\n",
       "    <tr>\n",
       "      <th>808</th>\n",
       "      <td>Chhoo Mantar</td>\n",
       "      <td>6.0</td>\n",
       "      <td>Comedy</td>\n",
       "      <td>Shyama, Johnny Walker, Anita Guha, Gajanan Jag...</td>\n",
       "      <td>rescue, beating, river, village, wedding, flir...</td>\n",
       "    </tr>\n",
       "    <tr>\n",
       "      <th>809</th>\n",
       "      <td>Ladki Sahyadri Ki</td>\n",
       "      <td>5.0</td>\n",
       "      <td>Musical, Drama</td>\n",
       "      <td>Shalini Abhyankar, Keshavrao Date, Vatsala Des...</td>\n",
       "      <td>sorry</td>\n",
       "    </tr>\n",
       "    <tr>\n",
       "      <th>810</th>\n",
       "      <td>Madadgaar</td>\n",
       "      <td>7.2</td>\n",
       "      <td>Drama, Romance</td>\n",
       "      <td>Ravindra Kapoor, Indira, Jeevan Dhar, Uma Dutt...</td>\n",
       "      <td>sorry</td>\n",
       "    </tr>\n",
       "  </tbody>\n",
       "</table>\n",
       "<p>811 rows × 5 columns</p>\n",
       "</div>"
      ],
      "text/plain": [
       "           Movie Title  Ratinng                     genre  \\\n",
       "0             3 Idiots      8.4             Comedy, Drama   \n",
       "1     Taare Zameen Par      8.3             Drama, Family   \n",
       "2                   PK      8.1     Comedy, Drama, Sci-Fi   \n",
       "3               Dangal      8.3  Action, Biography, Drama   \n",
       "4      Rang De Basanti      8.1      Comedy, Crime, Drama   \n",
       "..                 ...      ...                       ...   \n",
       "806   Parde Ke Peechey      5.9                    Action   \n",
       "807            Dhamkee      4.0            Action, Comedy   \n",
       "808       Chhoo Mantar      6.0                    Comedy   \n",
       "809  Ladki Sahyadri Ki      5.0            Musical, Drama   \n",
       "810          Madadgaar      7.2            Drama, Romance   \n",
       "\n",
       "                                                   act  \\\n",
       "0    Aamir Khan, Madhavan, Mona Singh, Sharman Josh...   \n",
       "1    Darsheel Safary, Aamir Khan, Tisca Chopra, Vip...   \n",
       "2    Aamir Khan, Anushka Sharma, Sanjay Dutt, Boman...   \n",
       "3    Aamir Khan, Sakshi Tanwar, Fatima Sana Shaikh,...   \n",
       "4    Aamir Khan, Soha Ali Khan, Siddharth, Sharman ...   \n",
       "..                                                 ...   \n",
       "806  Vinod Mehra, Yogeeta Bali, Pran Sikand, Bindu ...   \n",
       "807  Ravi Teja, Anushka Shetty, Krishna, Pradeep Si...   \n",
       "808  Shyama, Johnny Walker, Anita Guha, Gajanan Jag...   \n",
       "809  Shalini Abhyankar, Keshavrao Date, Vatsala Des...   \n",
       "810  Ravindra Kapoor, Indira, Jeevan Dhar, Uma Dutt...   \n",
       "\n",
       "                                                  Plot  \n",
       "0    papadum, hairy chest, against the system, comi...  \n",
       "1    teacher student relationship, dyslexia, agains...  \n",
       "2    guru, religion, tv reporter, alien on earth, p...  \n",
       "3    small town, father daughter relationship, male...  \n",
       "4    delhi india, murder, friend, india, awakening,...  \n",
       "..                                                 ...  \n",
       "806                                              crook  \n",
       "807                                              sorry  \n",
       "808  rescue, beating, river, village, wedding, flir...  \n",
       "809                                              sorry  \n",
       "810                                              sorry  \n",
       "\n",
       "[811 rows x 5 columns]"
      ]
     },
     "execution_count": 3,
     "metadata": {},
     "output_type": "execute_result"
    }
   ],
   "source": [
    "movie_df"
   ]
  },
  {
   "cell_type": "code",
   "execution_count": 4,
   "id": "26cc84df-4442-4c6e-94a0-26a3a5247b04",
   "metadata": {},
   "outputs": [
    {
     "data": {
      "text/plain": [
       "Movie Title    0\n",
       "Ratinng        0\n",
       "genre          0\n",
       "act            0\n",
       "Plot           0\n",
       "dtype: int64"
      ]
     },
     "execution_count": 4,
     "metadata": {},
     "output_type": "execute_result"
    }
   ],
   "source": [
    "movie_df.isna().sum()"
   ]
  },
  {
   "cell_type": "code",
   "execution_count": 5,
   "id": "b40e8570-8729-42e8-9497-477fcee15a91",
   "metadata": {},
   "outputs": [
    {
     "data": {
      "text/plain": [
       "Movie Title     object\n",
       "Ratinng        float64\n",
       "genre           object\n",
       "act             object\n",
       "Plot            object\n",
       "dtype: object"
      ]
     },
     "execution_count": 5,
     "metadata": {},
     "output_type": "execute_result"
    }
   ],
   "source": [
    "movie_df.dtypes"
   ]
  },
  {
   "cell_type": "code",
   "execution_count": 6,
   "id": "32d659e9-1e8a-4b37-b1d1-0d7908487d96",
   "metadata": {},
   "outputs": [],
   "source": [
    "tfidf = TfidfVectorizer()"
   ]
  },
  {
   "cell_type": "code",
   "execution_count": 7,
   "id": "fb524acf-4752-4379-adfe-8f6e6f54f4e8",
   "metadata": {},
   "outputs": [],
   "source": [
    "vectors = tfidf.fit_transform(movie_df['genre'])"
   ]
  },
  {
   "cell_type": "code",
   "execution_count": 8,
   "id": "dc7a96d5-bbda-4439-a395-65593adad97c",
   "metadata": {},
   "outputs": [
    {
     "data": {
      "text/plain": [
       "array([[0.        , 0.        , 0.        , 0.        , 0.83766858,\n",
       "        0.        , 0.        , 0.54617887, 0.        , 0.        ,\n",
       "        0.        , 0.        , 0.        , 0.        , 0.        ,\n",
       "        0.        , 0.        , 0.        , 0.        , 0.        ,\n",
       "        0.        , 0.        ]])"
      ]
     },
     "execution_count": 8,
     "metadata": {},
     "output_type": "execute_result"
    }
   ],
   "source": [
    "vectors[0].toarray()"
   ]
  },
  {
   "cell_type": "code",
   "execution_count": 9,
   "id": "fab4f7aa-fd05-4dfa-be47-8bbf7d9848ae",
   "metadata": {},
   "outputs": [
    {
     "data": {
      "text/plain": [
       "array([[0.        , 0.        , 0.        , 0.        , 0.23854688,\n",
       "        0.        , 0.        , 0.15553797, 0.        , 0.        ,\n",
       "        0.67782864, 0.        , 0.        , 0.        , 0.        ,\n",
       "        0.        , 0.        , 0.67782864, 0.        , 0.        ,\n",
       "        0.        , 0.        ]])"
      ]
     },
     "execution_count": 9,
     "metadata": {},
     "output_type": "execute_result"
    }
   ],
   "source": [
    "vectors[2].toarray()"
   ]
  },
  {
   "cell_type": "code",
   "execution_count": 10,
   "id": "ad53e947-6804-44f5-88fd-297538e65ec2",
   "metadata": {},
   "outputs": [
    {
     "data": {
      "text/plain": [
       "Movie Title\n",
       "3 Idiots               0\n",
       "Taare Zameen Par       1\n",
       "PK                     2\n",
       "Dangal                 3\n",
       "Rang De Basanti        4\n",
       "                    ... \n",
       "Parde Ke Peechey     806\n",
       "Dhamkee              807\n",
       "Chhoo Mantar         808\n",
       "Ladki Sahyadri Ki    809\n",
       "Madadgaar            810\n",
       "Length: 811, dtype: int64"
      ]
     },
     "execution_count": 10,
     "metadata": {},
     "output_type": "execute_result"
    }
   ],
   "source": [
    "indexed = pd.Series(index=movie_df['Movie Title'], data=movie_df.index)\n",
    "indexed"
   ]
  },
  {
   "cell_type": "code",
   "execution_count": 11,
   "id": "5f51328e-df59-4964-bb47-f29260680245",
   "metadata": {
    "scrolled": true
   },
   "outputs": [
    {
     "data": {
      "text/plain": [
       "array([[1.        , 0.17682135, 0.28477478, 0.14539681, 0.68713209,\n",
       "        0.27882285, 0.44125755, 0.10959635, 1.        , 0.34989062,\n",
       "        0.73593791, 0.56163239, 0.27882285, 0.56163239, 0.16734622,\n",
       "        0.10505635, 0.        , 0.28702413, 0.13272403, 0.54617887,\n",
       "        0.        , 0.20462232, 0.17394914, 0.46705206, 0.13318935,\n",
       "        0.34989062, 0.56163239, 0.27882285, 0.73593791, 0.48782829,\n",
       "        0.16384446, 0.44035717, 0.18746835, 0.20462232, 0.56396402,\n",
       "        0.        , 0.76492377, 0.13272403, 0.16384446, 0.27882285,\n",
       "        0.53090047, 0.        , 0.        , 0.76492377, 0.10505635,\n",
       "        0.13272403, 0.13272403, 0.27882285, 0.        , 0.15563719,\n",
       "        0.44125755, 1.        , 0.73593791, 0.16384446, 0.44125755,\n",
       "        0.27882285, 0.11589395, 0.13095659, 0.1575185 , 0.25066587,\n",
       "        0.18746835, 0.20462232, 0.12955874, 1.        , 0.21910022,\n",
       "        0.17394914, 0.53090047, 0.21910022, 0.18746835, 0.73593791,\n",
       "        0.20462232, 0.54617887, 0.73593791, 0.        , 0.1413302 ,\n",
       "        0.28394035, 0.13307492, 0.11589395, 0.21910022, 1.        ,\n",
       "        0.54617887, 0.1413302 , 0.15563719, 0.56396402, 0.27882285,\n",
       "        0.        , 0.20462232, 0.11361685, 0.44035717, 0.16734622,\n",
       "        0.        , 0.27882285, 0.56163239, 0.29721422, 0.44125755,\n",
       "        0.73593791, 0.73593791, 0.20462232, 0.21910022, 0.20462232,\n",
       "        1.        , 0.44125755, 0.20462232, 0.56396402, 0.13530464,\n",
       "        0.20462232, 0.        , 0.20462232, 0.20462232, 0.44125755,\n",
       "        0.15944483, 0.27882285, 1.        , 0.27882285, 0.76492377,\n",
       "        0.15944483, 0.14539681, 0.15563719, 0.44035717, 0.44125755,\n",
       "        0.20462232, 0.73593791, 0.73593791, 0.16384446, 0.17394914,\n",
       "        0.76492377, 0.56396402, 0.        , 0.56396402, 0.73593791,\n",
       "        0.76492377, 0.73593791, 0.73593791, 0.        , 1.        ,\n",
       "        0.68713209, 0.1413353 , 0.4741783 , 0.83766858, 0.54617887,\n",
       "        0.21910022, 0.34989062, 0.20462232, 0.22093917, 0.20462232,\n",
       "        0.17394914, 0.46705206, 0.76492377, 1.        , 0.54617887,\n",
       "        0.18258422, 0.15563719, 0.34989062, 0.12765826, 1.        ,\n",
       "        0.14767656, 0.73593791, 0.        , 0.27882285, 0.        ,\n",
       "        0.13881139, 0.16384446, 0.73593791, 0.56163239, 0.15682237,\n",
       "        0.16384446, 0.73593791, 0.20462232, 1.        , 0.16173035,\n",
       "        0.73593791, 0.27882285, 0.21910022, 0.5540615 , 0.14539681,\n",
       "        0.15682237, 0.        , 0.18258422, 0.54617887, 0.73593791,\n",
       "        0.        , 1.        , 0.53090047, 0.27882285, 0.13530464,\n",
       "        0.16384446, 0.46705206, 0.34989062, 1.        , 0.48782829,\n",
       "        0.17394914, 0.20462232, 0.20462232, 0.59076637, 0.        ,\n",
       "        0.59076637, 0.14539681, 0.73593791, 0.31834875, 0.34989062,\n",
       "        0.07535035, 0.44125755, 0.73593791, 0.46705206, 0.16384446,\n",
       "        0.46705206, 0.73593791, 0.56396402, 0.27882285, 0.20462232,\n",
       "        0.16384446, 0.73593791, 0.20462232, 0.54617887, 0.73593791,\n",
       "        0.54617887, 0.76492377, 0.34750884, 0.        , 0.15524008,\n",
       "        0.56163239, 0.76492377, 0.53090047, 0.73593791, 0.21910022,\n",
       "        0.73593791, 0.73593791, 0.15563719, 0.        , 0.18746835,\n",
       "        0.34989062, 0.20462232, 0.52623841, 0.14308242, 1.        ,\n",
       "        0.54617887, 0.68713209, 0.73593791, 0.73593791, 0.56163239,\n",
       "        0.16384446, 1.        , 0.76492377, 1.        , 0.27882285,\n",
       "        0.20462232, 0.15944483, 0.        , 0.14767656, 0.12639906,\n",
       "        0.73593791, 0.68713209, 0.54617887, 0.83766858, 0.56396402,\n",
       "        0.56396402, 0.19831773, 0.44125755, 0.20462232, 0.73593791,\n",
       "        0.20462232, 1.        , 0.15944483, 0.56396402, 0.34989062,\n",
       "        0.18746835, 0.27882285, 0.16384446, 0.56396402, 0.20462232,\n",
       "        0.53090047, 0.76492377, 0.16384446, 0.56396402, 0.53090047,\n",
       "        0.73593791, 0.76492377, 0.54617887, 0.76492377, 0.68713209,\n",
       "        0.17682135, 0.15944483, 0.4741783 , 0.27882285, 0.54617887,\n",
       "        0.59076637, 0.        , 0.18746835, 0.54617887, 1.        ,\n",
       "        0.73593791, 0.34750884, 0.        , 0.54617887, 0.18746835,\n",
       "        0.83766858, 1.        , 0.54617887, 0.59076637, 0.44125755,\n",
       "        0.        , 0.83766858, 0.15682237, 0.73593791, 0.33137231,\n",
       "        0.17394914, 0.53090047, 0.73593791, 0.15944483, 0.68713209,\n",
       "        0.73593791, 0.20462232, 0.27882285, 0.56163239, 0.18746835,\n",
       "        0.73593791, 0.        , 0.56396402, 0.76492377, 0.27882285,\n",
       "        0.        , 0.52623841, 0.20462232, 0.18746835, 0.20462232,\n",
       "        0.20462232, 0.73593791, 0.54617887, 0.4741783 , 0.5540615 ,\n",
       "        0.73593791, 0.22093917, 0.25066587, 0.56163239, 0.17394914,\n",
       "        0.17394914, 0.53090047, 0.4741783 , 0.34989062, 0.83766858,\n",
       "        0.27882285, 0.        , 0.21910022, 1.        , 0.56396402,\n",
       "        0.68713209, 0.        , 0.20462232, 0.        , 0.16509551,\n",
       "        0.16384446, 0.13272403, 0.27882285, 0.52623841, 0.27882285,\n",
       "        0.20462232, 0.29721422, 0.20462232, 1.        , 0.21910022,\n",
       "        0.        , 0.27882285, 0.        , 0.73593791, 0.73593791,\n",
       "        0.25066587, 0.11272578, 0.17394914, 0.1413353 , 0.83766858,\n",
       "        0.56396402, 0.27882285, 0.16734622, 0.56396402, 0.34989062,\n",
       "        0.        , 0.47026431, 0.73593791, 0.37080013, 0.13126944,\n",
       "        0.73593791, 0.27882285, 0.30582728, 0.83766858, 0.20462232,\n",
       "        0.15944483, 0.12490815, 0.20462232, 0.27882285, 0.        ,\n",
       "        0.56396402, 0.        , 0.73593791, 0.5201752 , 0.14767656,\n",
       "        0.        , 0.14767656, 0.44125755, 0.53090047, 0.73593791,\n",
       "        0.76492377, 0.25066587, 0.56163239, 0.56163239, 0.4741783 ,\n",
       "        0.20462232, 0.73593791, 0.76492377, 0.        , 0.47026431,\n",
       "        0.73593791, 0.16173035, 0.27882285, 0.62935168, 0.22093917,\n",
       "        0.15944483, 0.68713209, 0.        , 0.15563719, 0.83766858,\n",
       "        0.83766858, 0.54617887, 0.12315388, 0.20462232, 0.09266645,\n",
       "        0.73593791, 0.15563719, 0.36389079, 0.20462232, 0.20462232,\n",
       "        0.15682237, 0.27882285, 0.20462232, 0.20462232, 0.27882285,\n",
       "        0.25066587, 0.27882285, 0.22093917, 0.        , 0.56396402,\n",
       "        0.10959635, 0.1575185 , 0.54617887, 0.        , 0.29721422,\n",
       "        0.83766858, 0.        , 0.15944483, 0.54617887, 0.15682237,\n",
       "        0.44125755, 0.16384446, 0.49100441, 0.        , 0.83766858,\n",
       "        0.16384446, 0.        , 0.22093917, 0.16384446, 1.        ,\n",
       "        0.13318935, 0.        , 0.54617887, 0.17394914, 0.        ,\n",
       "        0.11252656, 0.        , 0.27882285, 0.20462232, 0.22093917,\n",
       "        0.        , 0.83766858, 1.        , 0.44125755, 0.20462232,\n",
       "        0.27882285, 0.36389079, 0.19831773, 0.18746835, 0.21910022,\n",
       "        0.        , 0.20462232, 0.21910022, 0.46705206, 0.17394914,\n",
       "        0.        , 0.22093917, 1.        , 0.1439827 , 0.34989062,\n",
       "        0.54617887, 0.12639906, 0.20462232, 0.18746835, 0.        ,\n",
       "        0.27882285, 0.16173035, 0.22093917, 1.        , 0.27882285,\n",
       "        0.        , 0.13881139, 0.83766858, 0.68713209, 0.20462232,\n",
       "        0.22093917, 0.        , 0.27882285, 0.        , 0.29721422,\n",
       "        0.27882285, 0.56396402, 0.20462232, 1.        , 0.15563719,\n",
       "        0.54617887, 0.        , 0.19831773, 0.29721422, 0.20462232,\n",
       "        0.76492377, 0.        , 0.        , 0.54617887, 0.56396402,\n",
       "        0.15682237, 0.        , 0.        , 0.20462232, 1.        ,\n",
       "        0.        , 0.13272403, 0.54617887, 0.21910022, 0.        ,\n",
       "        0.54617887, 0.27882285, 0.73593791, 0.59076637, 0.44125755,\n",
       "        0.        , 0.20462232, 1.        , 0.53090047, 0.22093917,\n",
       "        0.        , 0.20462232, 0.27882285, 0.27882285, 0.21910022,\n",
       "        0.        , 0.25066587, 0.        , 0.16384446, 0.        ,\n",
       "        0.56163239, 0.14634177, 0.21910022, 0.21910022, 0.54617887,\n",
       "        0.54617887, 0.5201752 , 0.        , 0.34989062, 1.        ,\n",
       "        0.4741783 , 0.25066587, 0.11144339, 0.14767656, 0.14268615,\n",
       "        0.54617887, 0.21910022, 0.        , 0.83766858, 0.46705206,\n",
       "        0.25066587, 0.12490815, 0.76492377, 0.73593791, 0.54617887,\n",
       "        0.76492377, 0.83766858, 0.53090047, 0.15944483, 0.        ,\n",
       "        0.21910022, 0.27882285, 0.29721422, 0.76492377, 0.56396402,\n",
       "        0.16734622, 0.76492377, 0.14767656, 0.15563719, 0.29721422,\n",
       "        0.18258422, 0.53090047, 0.        , 0.73593791, 0.14767656,\n",
       "        0.13204623, 0.15524008, 0.21910022, 0.20462232, 0.        ,\n",
       "        0.12955874, 0.29721422, 0.        , 0.        , 1.        ,\n",
       "        0.27882285, 0.17682135, 0.27882285, 0.44125755, 0.17682135,\n",
       "        0.27882285, 0.21910022, 0.29721422, 0.13379828, 0.29721422,\n",
       "        0.        , 0.1413302 , 0.        , 0.44125755, 0.18258422,\n",
       "        0.1189092 , 0.        , 0.        , 0.        , 0.20462232,\n",
       "        0.29721422, 0.54617887, 0.        , 0.44125755, 0.54617887,\n",
       "        0.54617887, 0.68713209, 0.83766858, 0.20462232, 0.17394914,\n",
       "        0.14767656, 0.        , 0.        , 0.21910022, 0.        ,\n",
       "        0.68713209, 0.13722066, 0.27882285, 0.20462232, 0.54617887,\n",
       "        0.        , 0.21910022, 0.17682135, 0.27882285, 0.        ,\n",
       "        1.        , 0.20462232, 0.54617887, 0.        , 0.54617887,\n",
       "        0.18746835, 0.73593791, 0.        , 0.44125755, 0.16384446,\n",
       "        0.        , 0.18659742, 0.20462232, 0.        , 0.16734622,\n",
       "        0.        , 0.59076637, 0.29721422, 0.44125755, 0.        ,\n",
       "        0.        , 0.        , 0.17682135, 0.        , 0.29721422,\n",
       "        0.54617887, 0.17682135, 0.20462232, 0.29721422, 0.        ,\n",
       "        0.4741783 , 0.15524008, 0.20462232, 0.18986566, 0.34989062,\n",
       "        0.        , 0.27882285, 1.        , 0.        , 0.        ,\n",
       "        0.16384446, 0.        , 0.17682135, 0.1413353 , 0.        ,\n",
       "        0.27882285, 0.        , 0.20891294, 0.15524008, 0.        ,\n",
       "        0.46705206, 0.54617887, 0.53090047, 0.        , 0.21910022,\n",
       "        0.46705206, 0.14767656, 0.        , 0.83766858, 0.54617887,\n",
       "        0.20462232, 0.29721422, 0.29721422, 0.54617887, 0.13272403,\n",
       "        0.73593791, 0.15524008, 0.20462232, 0.        , 0.54617887,\n",
       "        0.31834875, 0.        , 0.54617887, 0.27882285, 0.15413328,\n",
       "        0.15563719, 0.        , 0.73593791, 0.        , 0.12769714,\n",
       "        0.17682135, 0.        , 0.        , 0.35763234, 0.        ,\n",
       "        0.29721422, 0.        , 1.        , 0.17682135, 0.        ,\n",
       "        0.        , 0.14767656, 0.54617887, 0.        , 0.        ,\n",
       "        0.54617887, 0.        , 0.16384446, 0.31834875, 0.18986566,\n",
       "        1.        , 0.29721422, 0.25066587, 0.59076637, 0.20462232,\n",
       "        0.        , 0.29721422, 0.        , 0.        , 0.        ,\n",
       "        0.        , 0.        , 0.        , 0.15682237, 0.29721422,\n",
       "        0.83766858, 0.25066587, 0.        , 0.        , 0.        ,\n",
       "        0.        , 0.        , 0.29721422, 0.        , 0.29721422,\n",
       "        0.27882285, 0.53090047, 0.29721422, 0.54617887, 0.15563719,\n",
       "        0.        , 0.27882285, 0.08005144, 0.        , 0.56396402,\n",
       "        0.        , 0.53090047, 0.54617887, 0.15682237, 0.        ,\n",
       "        0.54617887, 0.        , 0.52623841, 0.        , 0.29721422,\n",
       "        0.83766858, 0.54617887, 0.        , 0.20462232, 0.44125755,\n",
       "        0.73593791, 0.        , 0.59076637, 0.83766858, 0.18986566,\n",
       "        0.27882285]])"
      ]
     },
     "execution_count": 11,
     "metadata": {},
     "output_type": "execute_result"
    }
   ],
   "source": [
    "dis = linear_kernel(vectors[0], vectors)\n",
    "dis"
   ]
  },
  {
   "cell_type": "code",
   "execution_count": 12,
   "id": "bbd76033-b111-4639-b405-0ba141baf360",
   "metadata": {
    "scrolled": true
   },
   "outputs": [
    {
     "data": {
      "text/html": [
       "<div>\n",
       "<style scoped>\n",
       "    .dataframe tbody tr th:only-of-type {\n",
       "        vertical-align: middle;\n",
       "    }\n",
       "\n",
       "    .dataframe tbody tr th {\n",
       "        vertical-align: top;\n",
       "    }\n",
       "\n",
       "    .dataframe thead th {\n",
       "        text-align: right;\n",
       "    }\n",
       "</style>\n",
       "<table border=\"1\" class=\"dataframe\">\n",
       "  <thead>\n",
       "    <tr style=\"text-align: right;\">\n",
       "      <th></th>\n",
       "      <th>Score</th>\n",
       "    </tr>\n",
       "  </thead>\n",
       "  <tbody>\n",
       "    <tr>\n",
       "      <th>0</th>\n",
       "      <td>1.000000</td>\n",
       "    </tr>\n",
       "    <tr>\n",
       "      <th>1</th>\n",
       "      <td>0.176821</td>\n",
       "    </tr>\n",
       "    <tr>\n",
       "      <th>2</th>\n",
       "      <td>0.284775</td>\n",
       "    </tr>\n",
       "    <tr>\n",
       "      <th>3</th>\n",
       "      <td>0.145397</td>\n",
       "    </tr>\n",
       "    <tr>\n",
       "      <th>4</th>\n",
       "      <td>0.687132</td>\n",
       "    </tr>\n",
       "    <tr>\n",
       "      <th>...</th>\n",
       "      <td>...</td>\n",
       "    </tr>\n",
       "    <tr>\n",
       "      <th>806</th>\n",
       "      <td>0.000000</td>\n",
       "    </tr>\n",
       "    <tr>\n",
       "      <th>807</th>\n",
       "      <td>0.590766</td>\n",
       "    </tr>\n",
       "    <tr>\n",
       "      <th>808</th>\n",
       "      <td>0.837669</td>\n",
       "    </tr>\n",
       "    <tr>\n",
       "      <th>809</th>\n",
       "      <td>0.189866</td>\n",
       "    </tr>\n",
       "    <tr>\n",
       "      <th>810</th>\n",
       "      <td>0.278823</td>\n",
       "    </tr>\n",
       "  </tbody>\n",
       "</table>\n",
       "<p>811 rows × 1 columns</p>\n",
       "</div>"
      ],
      "text/plain": [
       "        Score\n",
       "0    1.000000\n",
       "1    0.176821\n",
       "2    0.284775\n",
       "3    0.145397\n",
       "4    0.687132\n",
       "..        ...\n",
       "806  0.000000\n",
       "807  0.590766\n",
       "808  0.837669\n",
       "809  0.189866\n",
       "810  0.278823\n",
       "\n",
       "[811 rows x 1 columns]"
      ]
     },
     "execution_count": 12,
     "metadata": {},
     "output_type": "execute_result"
    }
   ],
   "source": [
    "scores = pd.DataFrame(dis).T\n",
    "scores.columns = ['Score']\n",
    "scores"
   ]
  },
  {
   "cell_type": "code",
   "execution_count": 13,
   "id": "240cb1b1-4931-46e4-8710-c7fba748d0a9",
   "metadata": {},
   "outputs": [],
   "source": [
    "x = scores.sort_values(by='Score', ascending=False)"
   ]
  },
  {
   "cell_type": "code",
   "execution_count": 14,
   "id": "2b3c875b-d3fe-4488-ad27-4fa81269cb3a",
   "metadata": {},
   "outputs": [
    {
     "data": {
      "text/html": [
       "<div>\n",
       "<style scoped>\n",
       "    .dataframe tbody tr th:only-of-type {\n",
       "        vertical-align: middle;\n",
       "    }\n",
       "\n",
       "    .dataframe tbody tr th {\n",
       "        vertical-align: top;\n",
       "    }\n",
       "\n",
       "    .dataframe thead th {\n",
       "        text-align: right;\n",
       "    }\n",
       "</style>\n",
       "<table border=\"1\" class=\"dataframe\">\n",
       "  <thead>\n",
       "    <tr style=\"text-align: right;\">\n",
       "      <th></th>\n",
       "      <th>Score</th>\n",
       "    </tr>\n",
       "  </thead>\n",
       "  <tbody>\n",
       "    <tr>\n",
       "      <th>0</th>\n",
       "      <td>1.0</td>\n",
       "    </tr>\n",
       "    <tr>\n",
       "      <th>79</th>\n",
       "      <td>1.0</td>\n",
       "    </tr>\n",
       "    <tr>\n",
       "      <th>692</th>\n",
       "      <td>1.0</td>\n",
       "    </tr>\n",
       "    <tr>\n",
       "      <th>112</th>\n",
       "      <td>1.0</td>\n",
       "    </tr>\n",
       "    <tr>\n",
       "      <th>100</th>\n",
       "      <td>1.0</td>\n",
       "    </tr>\n",
       "    <tr>\n",
       "      <th>134</th>\n",
       "      <td>1.0</td>\n",
       "    </tr>\n",
       "    <tr>\n",
       "      <th>655</th>\n",
       "      <td>1.0</td>\n",
       "    </tr>\n",
       "    <tr>\n",
       "      <th>609</th>\n",
       "      <td>1.0</td>\n",
       "    </tr>\n",
       "    <tr>\n",
       "      <th>148</th>\n",
       "      <td>1.0</td>\n",
       "    </tr>\n",
       "    <tr>\n",
       "      <th>358</th>\n",
       "      <td>1.0</td>\n",
       "    </tr>\n",
       "  </tbody>\n",
       "</table>\n",
       "</div>"
      ],
      "text/plain": [
       "     Score\n",
       "0      1.0\n",
       "79     1.0\n",
       "692    1.0\n",
       "112    1.0\n",
       "100    1.0\n",
       "134    1.0\n",
       "655    1.0\n",
       "609    1.0\n",
       "148    1.0\n",
       "358    1.0"
      ]
     },
     "execution_count": 14,
     "metadata": {},
     "output_type": "execute_result"
    }
   ],
   "source": [
    "x.head(10)"
   ]
  },
  {
   "cell_type": "code",
   "execution_count": 20,
   "id": "4dc73d07-67e7-4594-b76c-3929638f6c99",
   "metadata": {},
   "outputs": [
    {
     "data": {
      "text/plain": [
       "Movie Title\n",
       "Malamaal Weekly    261\n",
       "dtype: int64"
      ]
     },
     "execution_count": 20,
     "metadata": {},
     "output_type": "execute_result"
    }
   ],
   "source": [
    "indexed[indexed==261]"
   ]
  }
 ],
 "metadata": {
  "kernelspec": {
   "display_name": "Python 3 (ipykernel)",
   "language": "python",
   "name": "python3"
  },
  "language_info": {
   "codemirror_mode": {
    "name": "ipython",
    "version": 3
   },
   "file_extension": ".py",
   "mimetype": "text/x-python",
   "name": "python",
   "nbconvert_exporter": "python",
   "pygments_lexer": "ipython3",
   "version": "3.13.2"
  }
 },
 "nbformat": 4,
 "nbformat_minor": 5
}
